{
 "cells": [
  {
   "cell_type": "code",
   "execution_count": 24,
   "id": "da74d5b9",
   "metadata": {},
   "outputs": [],
   "source": [
    "import pandas as pd\n",
    "import numpy as np\n",
    "\n",
    "from joblib import dump, load\n",
    "\n",
    "from sklearn.naive_bayes import MultinomialNB\n",
    "\n",
    "from sklearn.model_selection import train_test_split, RandomizedSearchCV\n",
    "from sklearn.pipeline import Pipeline\n",
    "from sklearn.feature_extraction.text import CountVectorizer, TfidfVectorizer\n",
    "from sklearn.metrics import accuracy_score, confusion_matrix\n",
    "\n",
    "from nltk.tokenize import sent_tokenize\n",
    "\n",
    "from gensim.models import Phrases\n",
    "from gensim.utils import simple_preprocess\n",
    "from gensim.models.phrases import ENGLISH_CONNECTOR_WORDS"
   ]
  },
  {
   "cell_type": "markdown",
   "id": "f45d2485",
   "metadata": {},
   "source": [
    "# Classification of Consumer Complaints\n",
    "\n",
    "The Consumer Financial Protection Bureau publishes the Consumer Complaint Database, a collection of complaints about consumer financial products and services that were sent to companies for response. Complaints are published after the company responds, confirming a commercial relationship with the consumer, or after 15 days, whichever comes first. \n",
    "\n",
    "You have been provided with a dataset of over 350,000 such complaints for 5 common issue types. Your goal is to train a text classification model to identify the issue type based on the consumer complaint narrative."
   ]
  },
  {
   "cell_type": "code",
   "execution_count": 4,
   "id": "691e9905",
   "metadata": {},
   "outputs": [],
   "source": [
    "complaints = pd.read_csv(\"../data/complaints.csv\")"
   ]
  },
  {
   "cell_type": "code",
   "execution_count": 8,
   "id": "440efeab",
   "metadata": {},
   "outputs": [
    {
     "data": {
      "text/html": [
       "<div>\n",
       "<style scoped>\n",
       "    .dataframe tbody tr th:only-of-type {\n",
       "        vertical-align: middle;\n",
       "    }\n",
       "\n",
       "    .dataframe tbody tr th {\n",
       "        vertical-align: top;\n",
       "    }\n",
       "\n",
       "    .dataframe thead th {\n",
       "        text-align: right;\n",
       "    }\n",
       "</style>\n",
       "<table border=\"1\" class=\"dataframe\">\n",
       "  <thead>\n",
       "    <tr style=\"text-align: right;\">\n",
       "      <th></th>\n",
       "      <th>Consumer complaint narrative</th>\n",
       "      <th>Issue</th>\n",
       "    </tr>\n",
       "  </thead>\n",
       "  <tbody>\n",
       "    <tr>\n",
       "      <th>0</th>\n",
       "      <td>My name is XXXX XXXX this complaint is not mad...</td>\n",
       "      <td>Incorrect information on your report</td>\n",
       "    </tr>\n",
       "    <tr>\n",
       "      <th>1</th>\n",
       "      <td>I searched on XXXX for XXXXXXXX XXXX  and was ...</td>\n",
       "      <td>Fraud or scam</td>\n",
       "    </tr>\n",
       "    <tr>\n",
       "      <th>2</th>\n",
       "      <td>I have a particular account that is stating th...</td>\n",
       "      <td>Incorrect information on your report</td>\n",
       "    </tr>\n",
       "    <tr>\n",
       "      <th>3</th>\n",
       "      <td>I have not supplied proof under the doctrine o...</td>\n",
       "      <td>Attempts to collect debt not owed</td>\n",
       "    </tr>\n",
       "    <tr>\n",
       "      <th>4</th>\n",
       "      <td>Hello i'm writing regarding account on my cred...</td>\n",
       "      <td>Incorrect information on your report</td>\n",
       "    </tr>\n",
       "    <tr>\n",
       "      <th>5</th>\n",
       "      <td>On XXXX XX/XX/XXXX an electronic letter was se...</td>\n",
       "      <td>Incorrect information on your report</td>\n",
       "    </tr>\n",
       "    <tr>\n",
       "      <th>6</th>\n",
       "      <td>By the way, also following Federal Trade Commi...</td>\n",
       "      <td>Attempts to collect debt not owed</td>\n",
       "    </tr>\n",
       "    <tr>\n",
       "      <th>7</th>\n",
       "      <td>This account was opened over 10 years ago. Thi...</td>\n",
       "      <td>Incorrect information on your report</td>\n",
       "    </tr>\n",
       "    <tr>\n",
       "      <th>8</th>\n",
       "      <td>In accordance with the Fair Credit Reporting a...</td>\n",
       "      <td>Incorrect information on your report</td>\n",
       "    </tr>\n",
       "    <tr>\n",
       "      <th>9</th>\n",
       "      <td>I got an alert a late payment was reported on ...</td>\n",
       "      <td>Incorrect information on your report</td>\n",
       "    </tr>\n",
       "  </tbody>\n",
       "</table>\n",
       "</div>"
      ],
      "text/plain": [
       "                        Consumer complaint narrative  \\\n",
       "0  My name is XXXX XXXX this complaint is not mad...   \n",
       "1  I searched on XXXX for XXXXXXXX XXXX  and was ...   \n",
       "2  I have a particular account that is stating th...   \n",
       "3  I have not supplied proof under the doctrine o...   \n",
       "4  Hello i'm writing regarding account on my cred...   \n",
       "5  On XXXX XX/XX/XXXX an electronic letter was se...   \n",
       "6  By the way, also following Federal Trade Commi...   \n",
       "7  This account was opened over 10 years ago. Thi...   \n",
       "8  In accordance with the Fair Credit Reporting a...   \n",
       "9  I got an alert a late payment was reported on ...   \n",
       "\n",
       "                                  Issue  \n",
       "0  Incorrect information on your report  \n",
       "1                         Fraud or scam  \n",
       "2  Incorrect information on your report  \n",
       "3     Attempts to collect debt not owed  \n",
       "4  Incorrect information on your report  \n",
       "5  Incorrect information on your report  \n",
       "6     Attempts to collect debt not owed  \n",
       "7  Incorrect information on your report  \n",
       "8  Incorrect information on your report  \n",
       "9  Incorrect information on your report  "
      ]
     },
     "execution_count": 8,
     "metadata": {},
     "output_type": "execute_result"
    }
   ],
   "source": [
    "complaints.head(10)"
   ]
  },
  {
   "cell_type": "code",
   "execution_count": 7,
   "id": "d02bf641",
   "metadata": {},
   "outputs": [
    {
     "data": {
      "text/plain": [
       "Attempts to collect debt not owed        73163\n",
       "Communication tactics                    21243\n",
       "Fraud or scam                            12347\n",
       "Incorrect information on your report    229305\n",
       "Struggling to pay mortgage               17374\n",
       "Name: Issue, dtype: int64"
      ]
     },
     "execution_count": 7,
     "metadata": {},
     "output_type": "execute_result"
    }
   ],
   "source": [
    "complaints['Issue'].value_counts().sort_index()"
   ]
  },
  {
   "cell_type": "code",
   "execution_count": 14,
   "id": "85b6f8c5",
   "metadata": {},
   "outputs": [
    {
     "name": "stdout",
     "output_type": "stream",
     "text": [
      "I have been sending multiple written requests however, the incorrect items listed below still remain on my Credit Report in violation of Federal Law. They failed to comply with Fair Credit Reporting Act, 15 USC sections 1681i within the time set forth by law and continued reporting of unverified ( erroneous ) information which now, given all my attempts to address it directly with the creditor, as willful negligence and non-compliance with federal statutes. \n",
      "\n",
      "XXXX Date Opened : XX/XX/XXXX Balance : {$0.00} XXXX/XXXX Date Opened : XX/XX/XXXX Balance : {$0.00} XXXX XXXX XXXX Date Opened : XX/XX/XXXX Balance : {$0.00} XXXX  XXXX Date Opened : XX/XX/XXXX Balance : {$0.00} XXXX XXXX Date Opened : XX/XX/XXXX Balance : {$400.00} XXXX  XXXX  XXXX Date Opened : XX/XX/XXXX Balance : {$470.00}\n",
      "-----------------------------\n",
      "I listed 2 XXXX XXXX concert tickets on XXXX on Friday, XX/XX/XXXX and received a text inquiry from a XXXX XXXX offering me {$600.00} for the 2 3-Day pass wristbands. He offered to pay via Venmo and requested that I give the wristbands to his friend, XXXX. I received 2 {$300.00} payments via Venmo from XXXX and transferred the {$600.00} to my Venmo-linked XXXX checking account. I then agreed to meet XXXX at the XXXX at XXXX XXXX XXXX in XXXX XXXX at XXXX and gave him the 2 wristbands. My bank transfer was subsequently cancelled a few hours later by Venmo and I was given no recourse to obtain my tickets or the {$600.00}.\n",
      "-----------------------------\n",
      "Hi, my name is XXXX XXXX. This complaint is regarding Chase Bank. I was scammed by XXXX XXXX XXXX ( E-commerce dropshipping company ) by sending XXXX XXXX wire transfer of XXXX on XX/XX/2021. However, Chase bank did little to stop it : Before wiring money to XXXX XXXX XXXX, I did my due diligence to verify XXXX XXXX XXXX. At that time they were banking with Chase. I collected all the account info from XXXX XXXX and verified their business account with Chase. Representative from Chase said that its a valid business company, hence leading me to wire XXXX investment to XXXX XXXX XXXX XXXX did I know that XXXX XXXX is a scam. I have been trying to contact XXXX XXXX XXXX via text, emails and phone calls to no avail. I called Chase to recall the money from XXXX XXXX but they were not helpful. Their response was there was nothing they could do XXXX XXXX XXXX withdrew funds and closed their account with Chase after the wire transfer was made. How could Chase be so negligent and careless to transfer XXXX XXXX funds out and close their account after a big wire transfer was made. It should raise a red flag to Chase that something is wrong. I'm sure I'm not the only scam victim in Chase that had money wired to XXXX XXXX XXXX. And yet Chase proceeded with XXXX XXXX account closure and now Chase claims they can not recall funds. It's just pure negligence. I filed a separate complaint about XXXX XXXX XXXX on this site. \n",
      "I was also informed by different agencies that banks have fraud insurance to pay out clients who were victims of scam after investigation. In my case, Chase does not even want to help me out by tracking down where the funds of XXXX XXXX was transferred to. They don't even want to open up a claim with their fraud insurance to do an investigation. That is just pure negligence and carelessness on behalf of Chase. Please help me. I would greatly appreciate it. Thank You!!\n",
      "-----------------------------\n"
     ]
    }
   ],
   "source": [
    "seed = 711\n",
    "for statement in complaints.loc[complaints['Issue'] == 'Fraud or scam', 'Consumer complaint narrative'].sample(3, random_state=seed):\n",
    "    print(statement)\n",
    "    print('-----------------------------')"
   ]
  },
  {
   "cell_type": "code",
   "execution_count": 15,
   "id": "b4e0bfaf",
   "metadata": {},
   "outputs": [
    {
     "name": "stdout",
     "output_type": "stream",
     "text": [
      "On  XXXX   XXXX ,2017, I received a call from a company that did not disclose their name who said that I owed money to a credit card company. They said that if I did not contact them to resolve it, it would affect employment, assets and/or bank accounts. This matter has been resolved through the legitimate company and HSBC Bank and is no longer owed. They told me when I called them that they will see me in court and said I better have proof of my payment. I am worried that they will continue to harass me for this bill. This is the second fraudulent company trying to collect on this bill. I think they are just passing my information around to different people and that worries me. The number they called me from is  XXXX .\n",
      "-----------------------------\n",
      "XX/XX/XXXX XXXX XXXX XXXX XXXX XXXX XXXX \n",
      "XXXX XXXX, CA XXXX XXXX : XX/XX/XXXX SS # : XXXX WILLIAMS AND FUDGE INC XXXX XXXX XXXX XXXX XXXX ( XXXX ) XXXX To Whom It May Concern, There is no possibility that this is my debt. My name is XXXX XXXX XXXX at XXXX XXXX XXXX XXXX XXXX, CA XXXX. I have attached my Drivers License for address verification. It can not be possible that your debt is attached to my identity at this address. Please delete this collection account immediately. \n",
      "I'm sure you are aware of the provisions in the Fair Debt Collection Practices Act ( FDCPA ), and I am requesting validation of this debt. I am requesting proof that I am indeed the party you are asking to pay this debt, and there is some contractual obligation which is binding on me to pay this debt. I request that you cease contacting me via telephone and all future correspondence by writing. To refresh your memory on what constitutes legal debt validation, I am providing you a list of the required documentation : Complete payment history, the requirement of which has been established via XXXX v XXXX XXXX XXXX XXXX ; XXXX XXXX. XXXX. XXXX XXXX. Agreement that bears the signature of the alleged debtor wherein he/she agreed to pay the original creditor.\n",
      "\n",
      "Letter of sale or assignment from the original creditor to your company. ( Agreement with your client that grants you the authority to collect on this alleged debt. XXXX v. XXXX XXXX XXXX, XXXX, XXXX XXXX XXXX  ( D.Conn., XXXX XXXX, XXXX ) - Information relating to the purchase of a bad debt is not proprietary or burdensome. Debtor must phrase their request clearly to obtain : The source of a debt and the amount a bad debt buyer paid for plaintiff 's debt, how amount sought was calculated, where in issue a list of reports to credit bureaus, and documents conferring authority on defendant to collect debt. \n",
      "Intimate knowledge of the creation of the debt by you, the collection agency. \n",
      "As I am sure you are aware, under FDCPA Section 809 ( b ), you are not allowed to pursue collection activity until the debt is validated. You should be made aware that in TWYLA BOATLEY, Plaintiff, vs. DIEM CORPORATION, No. CIV 03-0762 UNITED STATES DISTRICT COURT FOR THE DISTRICT OF ARIZONA, 2004, the courts ruled that reporting a collection account indeed is considered collection activity. \n",
      "While I prefer not to litigate, I will use the courts as needed to enforce my rights under the FDCPA. I look forward to a speedy resolution of this matter. \n",
      "This letter is a formal complaint that you are reporting inaccurate and incomplete credit information. \n",
      "I am distressed that you have included the information below in my credit profile and that you have failed to maintain reasonable procedures in your operations to assure maximum possible accuracy in the credit reports you publish. Credit reporting laws ensure that bureaus report only 100 % accurate credit information. Every step must be taken to assure the information reported is completely accurate and correct. The following information therefore needs to be re-investigated. \n",
      "According to the Fair Credit Reporting Act, Section 609 ( a ) ( 1 ) ( A ), you are required by federal law to verify, through the physical verification of the original signed consumer contract, any and all accounts that you post on a credit report. Otherwise anyone paying for your reporting services could fax, mail or email in a fraudulent account. \n",
      "I demand to see verifiable proof ( i.e. : an original consumer contract with my signature on it ) that you have on file for the account listed below. \n",
      "Your failure to positively verify these accounts has hurt my ability to obtain credit. Under the FCRA, unverifiable accounts must be removed and if you are unable to provide me a copy of verifiable proof, you must remove the account listed below. \n",
      "I demand that the following accounts be verified or removed immediately : Account Name William and Fudge Account # # # # # # XXXX I respectfully request to be provided proof of this alleged item, specifically the contract, note or other instrument bearing my signature. \n",
      "\n",
      "Failing that, the item must be deleted from the report as soon as possible. This information is entirely inaccurate and incomplete, and as such represents a very serious error in your reporting. Please delete this misleading information and supply a corrected credit profile to all creditors who have received a copy within the last six months, or the last two years for employment purposes.\n",
      "\n",
      "Under federal law, you have thirty ( 30 ) days to complete your investigation. Be advised that the description of the procedure used to determine the accuracy and completeness of the information is hereby requested as well, to be provided within fifteen ( 15 ) days of the completion of your investigation. \n",
      "Thanks for your help in this matter, XXXX XXXX XXXX Attached : Drivers License Copy 1 page\n",
      "-----------------------------\n",
      "Midland Credit Management has been collecting on an alleged debt for Midland Funding LLC, in which they are accusing me of sole responsibility. \n",
      "\n",
      "A Subsidiary of Encore Capital Group, it has been involved in more than 300 federal lawsuits. It has violated TCPA, FDCPA, FCRA laws numerous times. The Consumer Financial Protection Bureau has sued and demanded strict policies on Midland Funding and Parent company Encore Capital for : i. Illegal collection activities ii. CFPB specifically found that encore capital bought debts that they knew or should have known were inaccurate or outside the statute of limitations. \n",
      "iii. Also found that they bought debts, that where they knew or should have known that the underlying documents or records were inaccurate. \n",
      "\n",
      "iv. Made misrepresentation to consumers that their accounts have been reviewed by an attorney and that a lawsuit will be brought up with failure to pay v. Misled consumers to agreeing for auto-dialed calls to their cellphones causing spam harassment violating the Telephone Consumer Protection Act ( TCPA Laws ) vi. They have filed lawsuits with no intention to prove if the consumer contested it vii. Have filed misleading affidavits in their lawsuits against consumers ; some were even made up viii. Have misled consumers and courts by stating that an undisputed debt is presumed to be valid under debt collection laws, when in fact the Federal Laws governing debt collection state no such thing. \n",
      "\n",
      "Even after scrutiny from the Consumer Financial Protection Bureau, Midland Funding LLC continues to defame persons character, humiliate persons integrity, and wreak havoc on persons life. Last month I sat through a trial that went on for 5 months for an alleged credit card that was opened under a XXXX year old grandma social secuirty number. Midland Funding LLC went after her government checks for 5 months and finally called the court in by phone to dismiss the case. Midland Funding LLC is comitting such acts on a daily basis. Midland Funding LLC is an unchecked company and has been degrading people and feeding on their ignorance and preying on their lack of education. \n",
      "\n",
      "\n",
      "I have sent express certified letters to XXXX, XXXX, XXXX, and Midland Funding LLC. The Credit Bureaus have stated that the account has been validated but has not stated the process they used for validation. The account can not be validated because XXXX XXXX XXXX has not been able to validate the account. How can the Credit Bureaus validate an account that has not been validated by the Collection Agency itself? \n",
      "\n",
      "These negligent actions committed by the Credit Bureaus raise many questions, especially the question of credibility. How credible are XXXX, XXXX, and XXXX? How do they store our data? How do they verify or validate accounts, especially accounts that can not be validated?\n",
      "\n",
      "Midland Funding LLC continues to sue me, violating FDCPA LAWS and have set pretrial for XX/XX/2019. They are persistent on collecting this invalidated, unverifiable, inaccurate alleged debt. They have violated FCRA LAWS AND TCPA LAWS by : 1. Repeated calls as harassment. [ 15 USC 1692d ] 806 ( 5 ) 2. sing this kind of language is considered harassment. [ 15 USC 1692d ] 806 ( 2 ) 3. Calls at these times are considered harassment. [ 15 USC 1692c ] 805 ( a ) ( 1 ) 4. Collectors can't threaten to sue or file charges against you, garnish wages, take property, cause job loss, or ruin your credit as a deceptive intimidation act [ 15 USC 1692e ] 807 ( 5 ) 5. The collector can only contact a third party once unless it has reason to believe the information previously provided is false. [ 15 USC 1692b ] 804 ( 1 ) 6. A collector is not allowed to contact you at work if youve let them know your employer doesnt approve of these calls and can not use cell phone in the workplace. [ 15 USC 1692c ] 805 ( a ) ( 3 ) 7. Within five days of the collector 's initial communication, it must send the consumer a notice including the amount of the debt, name of the creditor, and notice of your right to dispute the debt within 30 days. [ 15 USC 1692g ] 809 ( a ) 8. A collector can't continue to collect on a debt after you've made a written request to verify the debt as long as the request was made within 30 days of the collector 's written notice. [ 15 USC 1692g ] 809 ( b ) 9. After receiving the Defendants written dispute, the collector must stop collecting on the debt until you have received verification. [ 15 USC 1692g ] 809 ( b )\n",
      "-----------------------------\n"
     ]
    }
   ],
   "source": [
    "seed = 711\n",
    "for statement in complaints.loc[complaints['Issue'] == 'Attempts to collect debt not owed', 'Consumer complaint narrative'].sample(3, random_state=seed):\n",
    "    print(statement)\n",
    "    print('-----------------------------')"
   ]
  },
  {
   "cell_type": "code",
   "execution_count": 16,
   "id": "a99992b1",
   "metadata": {},
   "outputs": [
    {
     "name": "stdout",
     "output_type": "stream",
     "text": [
      "My husband who is a 100 % combat related XXXX veteran died on XX/XX/XXXX. Our home mortgage is in his name. I as the surviving spouse reported his death to Mr. Cooper mortgage company. With XXXX effecting so many people I was offered forbearance for a year. I graciously took this. At the end of the year, I was told that I had forbearance till the end of XXXX, XXXX. I would be given the opportunity to renegotiate the mortgage terms as of XXXX, XXXX. \n",
      "\n",
      "I have contacted Mr. Cooper on numerous occasions to get this process accomplished. Every time I am told that I did not send them complete information. For example, Mr. Cooper wanted verification of XXXX XXXX. They said they would accept either a letter from XXXX or 2 months of bank statements with the XXXX XXXX credited to my account. I gave them 2 months of bank statements. And I highlighted the deposits on each month to make it easy to identify. Six weeks after I submit these statements, I get a call from Mr. Cooper stating that they will NOT accept those bank statements and that they want the XXXX letter for the years of XXXX, XXXX, XXXX and XXXX. I immediately requested this information from XXXX but will have to wait for my request to be processed and sent to me via postal mail, before scanning and submitting to Mr. Cooper. \n",
      "\n",
      "It is now the end of XXXX, XXXX. I am constantly getting more and more requests for Mr. Cooper and each time it is delaying the restructuring of this mortgage. I wanted to get this done in XXXX, XXXX before the interest rate XXXX so that I could get a lower mortgage payment. \n",
      "\n",
      "I feel that this mortgage company is deliberately stalling the restructuring of this mortgage so that the interest rate will be higher and my payments would be increased. This is no way to treat the widow of a career XXXX veteran that became XXXX due to his time in service.\n",
      "-----------------------------\n",
      "The company had sent multiple notifications of insufficient insurance to cover the home and that they would be seeking to purchase additional insurance. I have provided proof of sufficient insurance on several occasions, both in XXXX of 2021 and XXXX of 2021. As the location is a condominium/townhome the coverage requirement is divided between the HOA and the homeowner ( \" XXXX XXXX XXXX '' ). Despite being told over the phone that this error would be corrected in records and no further action will be needed, multiple letters have been received threatening the purchase of this additional insurance. \n",
      "\n",
      "During each phone conversation with the company confirmation of the call has been requested and the homeowner has been told by the company that no such confirmations exist. Additionally, despite receiving 'Employee IDs ' and 'Interaction Numbers ' from phone calls, company representatives deny the existence of previous calls. They claim this to be \" For security reasons '' which is a blatant lie under any relevant information security standard. Additionally, the coordination between organizational departments results in a days-long process of contact at unknown times which provides untenable coordination for a working adult. \n",
      "\n",
      "At the time of this complaint these letters are perceived as a combination of harassment and extortion as the option to refinance with another organization is prohibitively expensive to the Veteran.\n",
      "-----------------------------\n",
      "Hired XXXX  law firm to assist with a loan modification with FCI Lender services , Inc XXXX XXXX \n",
      "XX/XX/XXXX XXXX advised me was approved for a loan modification and 1st payment due XX/XX/XXXX. Payment was made as indicated and on XX/XX/XXXX FCI lender services filed for foreclosure on my home. \n",
      "Prior to XX/XX/XXXX, it was XXXX XXXX XXXX  I originally began modification with and they requested I send {$7500.00} to began the loan modification process which I did and this was back in XX/XX/XXXX. So from XXXX to XX/XX/XXXX had been trying to get a loan modification from XXXX XXXX XXXX to no avail. I hired a law firm XXXX XXXX  XXXX XXXX XXXX law firm to assist and equally paid them fees. \n",
      "All monies spent and paid to both lender services and still getting foreclosed on. I need assistance please and urgently. Thank you\n",
      "-----------------------------\n"
     ]
    }
   ],
   "source": [
    "seed = 711\n",
    "for statement in complaints.loc[complaints['Issue'] == 'Struggling to pay mortgage', 'Consumer complaint narrative'].sample(3, random_state=seed):\n",
    "    print(statement)\n",
    "    print('-----------------------------')"
   ]
  },
  {
   "cell_type": "code",
   "execution_count": 21,
   "id": "0904eeab",
   "metadata": {},
   "outputs": [],
   "source": [
    "complaints['word_count'] = complaints['Consumer complaint narrative'].str.split().str.len()"
   ]
  },
  {
   "cell_type": "code",
   "execution_count": 22,
   "id": "1a95f0c8",
   "metadata": {},
   "outputs": [
    {
     "data": {
      "text/html": [
       "<div>\n",
       "<style scoped>\n",
       "    .dataframe tbody tr th:only-of-type {\n",
       "        vertical-align: middle;\n",
       "    }\n",
       "\n",
       "    .dataframe tbody tr th {\n",
       "        vertical-align: top;\n",
       "    }\n",
       "\n",
       "    .dataframe thead th {\n",
       "        text-align: right;\n",
       "    }\n",
       "</style>\n",
       "<table border=\"1\" class=\"dataframe\">\n",
       "  <thead>\n",
       "    <tr style=\"text-align: right;\">\n",
       "      <th></th>\n",
       "      <th>Consumer complaint narrative</th>\n",
       "      <th>Issue</th>\n",
       "      <th>word_count</th>\n",
       "    </tr>\n",
       "  </thead>\n",
       "  <tbody>\n",
       "    <tr>\n",
       "      <th>0</th>\n",
       "      <td>My name is XXXX XXXX this complaint is not mad...</td>\n",
       "      <td>Incorrect information on your report</td>\n",
       "      <td>123</td>\n",
       "    </tr>\n",
       "    <tr>\n",
       "      <th>1</th>\n",
       "      <td>I searched on XXXX for XXXXXXXX XXXX  and was ...</td>\n",
       "      <td>Fraud or scam</td>\n",
       "      <td>358</td>\n",
       "    </tr>\n",
       "    <tr>\n",
       "      <th>2</th>\n",
       "      <td>I have a particular account that is stating th...</td>\n",
       "      <td>Incorrect information on your report</td>\n",
       "      <td>55</td>\n",
       "    </tr>\n",
       "    <tr>\n",
       "      <th>3</th>\n",
       "      <td>I have not supplied proof under the doctrine o...</td>\n",
       "      <td>Attempts to collect debt not owed</td>\n",
       "      <td>607</td>\n",
       "    </tr>\n",
       "    <tr>\n",
       "      <th>4</th>\n",
       "      <td>Hello i'm writing regarding account on my cred...</td>\n",
       "      <td>Incorrect information on your report</td>\n",
       "      <td>160</td>\n",
       "    </tr>\n",
       "    <tr>\n",
       "      <th>...</th>\n",
       "      <td>...</td>\n",
       "      <td>...</td>\n",
       "      <td>...</td>\n",
       "    </tr>\n",
       "    <tr>\n",
       "      <th>353427</th>\n",
       "      <td>Collections account I have no knowledge of</td>\n",
       "      <td>Attempts to collect debt not owed</td>\n",
       "      <td>7</td>\n",
       "    </tr>\n",
       "    <tr>\n",
       "      <th>353428</th>\n",
       "      <td>Dear CFPB Team, The reason for my complaint is...</td>\n",
       "      <td>Attempts to collect debt not owed</td>\n",
       "      <td>813</td>\n",
       "    </tr>\n",
       "    <tr>\n",
       "      <th>353429</th>\n",
       "      <td>FRCA violations : Failing to Follow Debt Dispu...</td>\n",
       "      <td>Attempts to collect debt not owed</td>\n",
       "      <td>713</td>\n",
       "    </tr>\n",
       "    <tr>\n",
       "      <th>353430</th>\n",
       "      <td>My Father, a XXXX XXXX  acquired an HECM rever...</td>\n",
       "      <td>Struggling to pay mortgage</td>\n",
       "      <td>891</td>\n",
       "    </tr>\n",
       "    <tr>\n",
       "      <th>353431</th>\n",
       "      <td>I have tried to contact cash app about a fraud...</td>\n",
       "      <td>Fraud or scam</td>\n",
       "      <td>28</td>\n",
       "    </tr>\n",
       "  </tbody>\n",
       "</table>\n",
       "<p>353432 rows × 3 columns</p>\n",
       "</div>"
      ],
      "text/plain": [
       "                             Consumer complaint narrative  \\\n",
       "0       My name is XXXX XXXX this complaint is not mad...   \n",
       "1       I searched on XXXX for XXXXXXXX XXXX  and was ...   \n",
       "2       I have a particular account that is stating th...   \n",
       "3       I have not supplied proof under the doctrine o...   \n",
       "4       Hello i'm writing regarding account on my cred...   \n",
       "...                                                   ...   \n",
       "353427         Collections account I have no knowledge of   \n",
       "353428  Dear CFPB Team, The reason for my complaint is...   \n",
       "353429  FRCA violations : Failing to Follow Debt Dispu...   \n",
       "353430  My Father, a XXXX XXXX  acquired an HECM rever...   \n",
       "353431  I have tried to contact cash app about a fraud...   \n",
       "\n",
       "                                       Issue  word_count  \n",
       "0       Incorrect information on your report         123  \n",
       "1                              Fraud or scam         358  \n",
       "2       Incorrect information on your report          55  \n",
       "3          Attempts to collect debt not owed         607  \n",
       "4       Incorrect information on your report         160  \n",
       "...                                      ...         ...  \n",
       "353427     Attempts to collect debt not owed           7  \n",
       "353428     Attempts to collect debt not owed         813  \n",
       "353429     Attempts to collect debt not owed         713  \n",
       "353430            Struggling to pay mortgage         891  \n",
       "353431                         Fraud or scam          28  \n",
       "\n",
       "[353432 rows x 3 columns]"
      ]
     },
     "execution_count": 22,
     "metadata": {},
     "output_type": "execute_result"
    }
   ],
   "source": [
    "complaints"
   ]
  },
  {
   "cell_type": "code",
   "execution_count": 29,
   "id": "193cc627",
   "metadata": {},
   "outputs": [],
   "source": [
    "test_1 = sent_tokenize(complaints['Consumer complaint narrative'].loc[1])"
   ]
  },
  {
   "cell_type": "code",
   "execution_count": 42,
   "id": "5d4f90d8",
   "metadata": {},
   "outputs": [
    {
     "data": {
      "text/plain": [
       "['I searched on XXXX for XXXXXXXX XXXX  and was pointed to a website I legitimately believed was XXXX.',\n",
       " 'The website was XXXX whereas the authentic website is XXXX I proceeded to buy a gun from the fraudulent website and sent my money via XXXX as the spam seller requested, this was a total of {$450.00} on XX/XX/XXXX.',\n",
       " 'I received an email stating the transaction was approved and on XX/XX/XXXX I attempted to reach back out to the company in an attempt to give them the contact info of my chosen XXXX dealer, the emails started to bounce back ( there are also photos of this ).',\n",
       " 'This was when I realized that this website was a faked, copycat website.',\n",
       " 'I attempted to report it to my bank immediately when I realized a company I was dealing with was committing fraud and pretending to be a firearms dealer that has been in business for over 80 years and is a very well-known company all over the world.',\n",
       " 'As my bank, I expected them to help protect me.',\n",
       " \"I was told to wait until the money posted and then got a letter stating that because I initiated the transaction, they weren't refunding me my money.\",\n",
       " 'I reported the transaction immediately, expecting my bank to help me and they did nothing.',\n",
       " 'This bank did not protect my money and could care less even after proving all the reports I filed about the fraudulent claim.',\n",
       " \"It's sad that after almost a decade of business with me and my family, I don't seem to matter.\",\n",
       " \"I did report the fraud activity to the Federal Trade Commission, the Georgia State Commissioner, and the XXXX XXXX XXXX \\n\\nAfter reporting it to the XXXX Truist said they would look into it and I received a letter stating they couldn't get the money back so I wouldn't be getting it back either.\",\n",
       " 'Seriously?',\n",
       " 'The company literally stole my money, how is that even an attempt at a resolution?',\n",
       " 'All of the information provided can be proven with screenshots and images.',\n",
       " 'I also have the name of the original Truist rep we spoke to and the complaint number.']"
      ]
     },
     "execution_count": 42,
     "metadata": {},
     "output_type": "execute_result"
    }
   ],
   "source": [
    "sent_tokenize(complaints['Consumer complaint narrative'].loc[1])"
   ]
  },
  {
   "cell_type": "code",
   "execution_count": 39,
   "id": "abc5e8a8",
   "metadata": {},
   "outputs": [
    {
     "data": {
      "text/plain": [
       "['I searched on XXXX for XXXXXXXX XXXX  and was pointed to a website I legitimately believed was XXXX.',\n",
       " 'The website was XXXX whereas the authentic website is XXXX I proceeded to buy a gun from the fraudulent website and sent my money via XXXX as the spam seller requested, this was a total of {$450.00} on XX/XX/XXXX.',\n",
       " 'I received an email stating the transaction was approved and on XX/XX/XXXX I attempted to reach back out to the company in an attempt to give them the contact info of my chosen XXXX dealer, the emails started to bounce back ( there are also photos of this ).',\n",
       " 'This was when I realized that this website was a faked, copycat website.',\n",
       " 'I attempted to report it to my bank immediately when I realized a company I was dealing with was committing fraud and pretending to be a firearms dealer that has been in business for over 80 years and is a very well-known company all over the world.',\n",
       " 'As my bank, I expected them to help protect me.',\n",
       " \"I was told to wait until the money posted and then got a letter stating that because I initiated the transaction, they weren't refunding me my money.\",\n",
       " 'I reported the transaction immediately, expecting my bank to help me and they did nothing.',\n",
       " 'This bank did not protect my money and could care less even after proving all the reports I filed about the fraudulent claim.',\n",
       " \"It's sad that after almost a decade of business with me and my family, I don't seem to matter.\",\n",
       " \"I did report the fraud activity to the Federal Trade Commission, the Georgia State Commissioner, and the XXXX XXXX XXXX \\n\\nAfter reporting it to the XXXX Truist said they would look into it and I received a letter stating they couldn't get the money back so I wouldn't be getting it back either.\",\n",
       " 'Seriously?',\n",
       " 'The company literally stole my money, how is that even an attempt at a resolution?',\n",
       " 'All of the information provided can be proven with screenshots and images.',\n",
       " 'I also have the name of the original Truist rep we spoke to and the complaint number.']"
      ]
     },
     "execution_count": 39,
     "metadata": {},
     "output_type": "execute_result"
    }
   ],
   "source": [
    "test_1"
   ]
  },
  {
   "cell_type": "code",
   "execution_count": 44,
   "id": "f92c4a2d",
   "metadata": {},
   "outputs": [],
   "source": [
    "processed_sentences = [simple_preprocess(sentence) for sentence in test_1]"
   ]
  },
  {
   "cell_type": "code",
   "execution_count": 46,
   "id": "97962b4d",
   "metadata": {},
   "outputs": [
    {
     "name": "stdout",
     "output_type": "stream",
     "text": [
      "[['searched', 'on', 'xxxx', 'for', 'xxxxxxxx', 'xxxx', 'and', 'was', 'pointed', 'to', 'website', 'legitimately', 'believed', 'was', 'xxxx'], ['the', 'website', 'was', 'xxxx', 'whereas', 'the', 'authentic', 'website', 'is', 'xxxx', 'proceeded', 'to', 'buy', 'gun', 'from', 'the', 'fraudulent', 'website', 'and', 'sent', 'my', 'money', 'via', 'xxxx', 'as', 'the', 'spam', 'seller', 'requested', 'this', 'was', 'total', 'of', 'on', 'xx', 'xx', 'xxxx'], ['received', 'an', 'email', 'stating', 'the', 'transaction', 'was', 'approved', 'and', 'on', 'xx', 'xx', 'xxxx', 'attempted', 'to', 'reach', 'back', 'out', 'to', 'the', 'company', 'in', 'an', 'attempt', 'to', 'give', 'them', 'the', 'contact', 'info', 'of', 'my', 'chosen', 'xxxx', 'dealer', 'the', 'emails', 'started', 'to', 'bounce', 'back', 'there', 'are', 'also', 'photos', 'of', 'this'], ['this', 'was', 'when', 'realized', 'that', 'this', 'website', 'was', 'faked', 'copycat', 'website'], ['attempted', 'to', 'report', 'it', 'to', 'my', 'bank', 'immediately', 'when', 'realized', 'company', 'was', 'dealing', 'with', 'was', 'committing', 'fraud', 'and', 'pretending', 'to', 'be', 'firearms', 'dealer', 'that', 'has', 'been', 'in', 'business', 'for', 'over', 'years', 'and', 'is', 'very', 'well', 'known', 'company', 'all', 'over', 'the', 'world'], ['as', 'my', 'bank', 'expected', 'them', 'to', 'help', 'protect', 'me'], ['was', 'told', 'to', 'wait', 'until', 'the', 'money', 'posted', 'and', 'then', 'got', 'letter', 'stating', 'that', 'because', 'initiated', 'the', 'transaction', 'they', 'weren', 'refunding', 'me', 'my', 'money'], ['reported', 'the', 'transaction', 'immediately', 'expecting', 'my', 'bank', 'to', 'help', 'me', 'and', 'they', 'did', 'nothing'], ['this', 'bank', 'did', 'not', 'protect', 'my', 'money', 'and', 'could', 'care', 'less', 'even', 'after', 'proving', 'all', 'the', 'reports', 'filed', 'about', 'the', 'fraudulent', 'claim'], ['it', 'sad', 'that', 'after', 'almost', 'decade', 'of', 'business', 'with', 'me', 'and', 'my', 'family', 'don', 'seem', 'to', 'matter'], ['did', 'report', 'the', 'fraud', 'activity', 'to', 'the', 'federal', 'trade', 'commission', 'the', 'georgia', 'state', 'commissioner', 'and', 'the', 'xxxx', 'xxxx', 'xxxx', 'after', 'reporting', 'it', 'to', 'the', 'xxxx', 'truist', 'said', 'they', 'would', 'look', 'into', 'it', 'and', 'received', 'letter', 'stating', 'they', 'couldn', 'get', 'the', 'money', 'back', 'so', 'wouldn', 'be', 'getting', 'it', 'back', 'either'], ['seriously'], ['the', 'company', 'literally', 'stole', 'my', 'money', 'how', 'is', 'that', 'even', 'an', 'attempt', 'at', 'resolution'], ['all', 'of', 'the', 'information', 'provided', 'can', 'be', 'proven', 'with', 'screenshots', 'and', 'images'], ['also', 'have', 'the', 'name', 'of', 'the', 'original', 'truist', 'rep', 'we', 'spoke', 'to', 'and', 'the', 'complaint', 'number']]\n"
     ]
    }
   ],
   "source": [
    "print(processed_sentences)"
   ]
  },
  {
   "cell_type": "code",
   "execution_count": 47,
   "id": "a51d37ae",
   "metadata": {},
   "outputs": [],
   "source": [
    "bigram_finder = Phrases(\n",
    "    sentences=processed_sentences,\n",
    "    min_count=25,\n",
    "    connector_words=ENGLISH_CONNECTOR_WORDS\n",
    ")"
   ]
  },
  {
   "cell_type": "code",
   "execution_count": 48,
   "id": "90bf9841",
   "metadata": {},
   "outputs": [
    {
     "data": {
      "text/plain": [
       "[]"
      ]
     },
     "execution_count": 48,
     "metadata": {},
     "output_type": "execute_result"
    }
   ],
   "source": [
    "sorted(bigram_finder.find_phrases(processed_sentences).items(), key = lambda x: -x[1])"
   ]
  },
  {
   "cell_type": "code",
   "execution_count": null,
   "id": "39779bf7",
   "metadata": {},
   "outputs": [],
   "source": []
  }
 ],
 "metadata": {
  "kernelspec": {
   "display_name": "Python 3 (ipykernel)",
   "language": "python",
   "name": "python3"
  },
  "language_info": {
   "codemirror_mode": {
    "name": "ipython",
    "version": 3
   },
   "file_extension": ".py",
   "mimetype": "text/x-python",
   "name": "python",
   "nbconvert_exporter": "python",
   "pygments_lexer": "ipython3",
   "version": "3.10.9"
  }
 },
 "nbformat": 4,
 "nbformat_minor": 5
}
